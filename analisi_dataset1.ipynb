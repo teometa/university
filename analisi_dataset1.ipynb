{
 "cells": [
  {
   "cell_type": "code",
   "execution_count": null,
   "id": "5078e443-b47b-45b3-a8cd-1ff5ba80ebde",
   "metadata": {},
   "outputs": [],
   "source": [
    "import pandas as pd\n",
    "import numpy as np\n",
    "import plotly.express as px\n",
    "import plotly.graph_objects as go\n",
    "df = pd.read_csv(\"incidenti.csv\")"
   ]
  },
  {
   "cell_type": "markdown",
   "id": "e6b9af9f-da40-4aa5-a016-73d76aefac6e",
   "metadata": {},
   "source": [
    "### 1 Presentazione dataset"
   ]
  },
  {
   "cell_type": "markdown",
   "id": "de398a95-1fcf-44de-bb6f-e4879dfc3e7b",
   "metadata": {
    "jp-MarkdownHeadingCollapsed": true,
    "tags": []
   },
   "source": [
    "Il dataset che ho scelto per effettuare l'analisi riguarda gli incidenti stradali avvenuti dal 2012 al 1028 nel Regno Unito. Il dataset scelto è molto corposo in quanto contiene 1'048'575 osservazioni (una per incidente) e 28 colonne. Ho ritenuto interessante analizzare solo alcune tra tutte le colonne."
   ]
  },
  {
   "cell_type": "markdown",
   "id": "28df33ec-cac7-420f-9c53-6b56b788d229",
   "metadata": {},
   "source": [
    "#### Colonne analizzate\n",
    "- Giorno della settimana in cui è avvenuto\n",
    "- Tipo di strada in cui è avvenuto\n",
    "- Tipo di controllo dell'incrocio in cui è avvenuto\n",
    "- Anno in cui è avvenuto\n",
    "- Parte del giorno in cui è avvenuto\n",
    "- Numero di vittime"
   ]
  },
  {
   "cell_type": "code",
   "execution_count": null,
   "id": "38509d27-53b9-4f2e-9a00-113447f203fe",
   "metadata": {
    "tags": []
   },
   "outputs": [],
   "source": [
    "df.shape"
   ]
  },
  {
   "cell_type": "markdown",
   "id": "a28a034d-3a39-4b07-9d0b-658b54918093",
   "metadata": {},
   "source": [
    "### 2 Grafici"
   ]
  },
  {
   "cell_type": "code",
   "execution_count": null,
   "id": "24596f58-8c22-4189-8336-6c46a83f2dc8",
   "metadata": {},
   "outputs": [],
   "source": [
    "px.histogram(data_frame = df, x = \"Day_of_Week\", color_discrete_sequence=['green']).update_layout(\n",
    "title_text='Sabato drammatico sulle strade',\n",
    "xaxis_title_text='Giorno',\n",
    "yaxis_title_text='Numero incidenti',\n",
    "bargap=0.2,\n",
    "bargroupgap=0.1,\n",
    "xaxis = dict(\n",
    "tickmode = 'array',\n",
    "tickvals = [1, 2, 3, 4, 5, 6, 7],\n",
    "ticktext = ['Lunedì', 'Martedì', 'Mercoledì','Giovedì','Venerdì','Sabato','Domenica']\n",
    ")).update_xaxes(categoryorder=\"array\", categoryarray=[1,2,3,4,5,6,7])"
   ]
  },
  {
   "cell_type": "code",
   "execution_count": null,
   "id": "0602c5c4-968a-43dc-8c89-48816741529d",
   "metadata": {},
   "outputs": [],
   "source": [
    "px.histogram(df, y=\"Light_Conditions\", color=\"Accident_Severity\").update_layout(\n",
    "title_text='Le fatali ore diurne',\n",
    "bargap=0.2,\n",
    "xaxis_title_text='Condizione della luce',\n",
    "yaxis_title_text='Numero di incidenti')\n"
   ]
  },
  {
   "cell_type": "code",
   "execution_count": null,
   "id": "745a66dc-866f-4439-84d2-d1dea73d93b3",
   "metadata": {},
   "outputs": [],
   "source": [
    "df1 = pd.DataFrame(df.groupby(by=['Road_Type'])['Number_of_Casualties'].sum())\n",
    "\n",
    "df1.reset_index(inplace=True)\n",
    "\n",
    "px.bar(df1, x='Road_Type', y='Number_of_Casualties', color_discrete_sequence=['green']).update_xaxes(categoryorder='total descending').update_layout(\n",
    "title_text='Strada urbana: la più pericolosa',\n",
    "xaxis_title_text='Tipo della strada',\n",
    "yaxis_title_text='Numero di vittime'\n",
    ")\n"
   ]
  },
  {
   "cell_type": "code",
   "execution_count": null,
   "id": "60729eb3-fe91-4061-83d9-c4eb69d7203d",
   "metadata": {},
   "outputs": [],
   "source": [
    "px.histogram(df, x=\"Junction_Control\", color_discrete_sequence=['green']).update_xaxes(categoryorder='total descending').update_layout(\n",
    "title_text='Semafori non sempre sicuri',\n",
    "bargap=0.2,\n",
    "xaxis_title_text='Tipo di controllo dell\\'incrocio',\n",
    "yaxis_title_text='Numero di incidenti',\n",
    ")"
   ]
  },
  {
   "cell_type": "code",
   "execution_count": null,
   "id": "50893c5f-c1eb-4ff6-af6c-cae2d942d7cd",
   "metadata": {},
   "outputs": [],
   "source": [
    "df1 = pd.DataFrame(df.groupby(by=['Year'])['Number_of_Casualties'].sum())\n",
    "\n",
    "df1.reset_index(inplace=True)\n",
    "\n",
    "px.bar(df1, x='Year', y='Number_of_Casualties', color_discrete_sequence=['green']).update_xaxes(categoryorder='total descending').update_layout(\n",
    "title_text='2012 e 2015 anni difficili',\n",
    "xaxis_title_text='Anno',\n",
    "yaxis_title_text='Numero di vittime'\n",
    ")"
   ]
  }
 ],
 "metadata": {
  "kernelspec": {
   "display_name": "Python 3 (ipykernel)",
   "language": "python",
   "name": "python3"
  },
  "language_info": {
   "codemirror_mode": {
    "name": "ipython",
    "version": 3
   },
   "file_extension": ".py",
   "mimetype": "text/x-python",
   "name": "python",
   "nbconvert_exporter": "python",
   "pygments_lexer": "ipython3",
   "version": "3.9.7"
  }
 },
 "nbformat": 4,
 "nbformat_minor": 5
}
